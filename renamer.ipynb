{
 "cells": [
  {
   "cell_type": "code",
   "execution_count": 1,
   "metadata": {},
   "outputs": [],
   "source": [
    "import os"
   ]
  },
  {
   "cell_type": "code",
   "execution_count": null,
   "metadata": {},
   "outputs": [],
   "source": [
    "# First, we specify the path to where all the data files are located\n",
    "path = \"data/maps\"\n",
    "\n",
    "# Next we create a list of all the file names in that specified folder\n",
    "files_list = os.listdir(path)\n",
    "\n",
    "files_list"
   ]
  },
  {
   "cell_type": "code",
   "execution_count": 32,
   "metadata": {},
   "outputs": [
    {
     "data": {
      "text/plain": [
       "{'202': 'run_1',\n",
       " '214': 'run_2',\n",
       " '222': 'run_3',\n",
       " '108': 'run_4',\n",
       " '148': 'run_5'}"
      ]
     },
     "execution_count": 32,
     "metadata": {},
     "output_type": "execute_result"
    }
   ],
   "source": [
    "# Since there can be any amount of runs for each frequency, we first input \n",
    "# all the available frequencies in the below list. \n",
    "\n",
    "freqs = [\"023-WMAP_K\", \"030\", \"040-WMAP_Q1\", \"044\", \"060-WMAP_V1\", \"070\", \"090-WMAP_W1\"]  \n",
    "\n",
    "# Note that in our case, the files were of the name: \"freq_023-WMAP_K_000108.fits\" \n",
    "# where the \"023-WMAP_K\" is the supposed frequency and \"000108\" is the run number. \n",
    "\n",
    "\n",
    "# Now since we need to rename the files to the format of \"run_1\", \"run_2\", etc. \n",
    "# we create a dictionary that corresponds say \"000108\" to \"run_1\" and \"000148\" to run_2 and so on\n",
    "dict_keys = [] \n",
    "\n",
    "# This part is automated, the loop just chooses the first frequency in freqs and runs through all the files\n",
    "# Since each file is a new run, it collects the \"000108\" and stores it in dict_keys to use them as keys for the dictionary\n",
    "for file in files_list:\n",
    "    if len(freqs[0]) > 3:  \n",
    "        if file[5:15] == freqs[0]:  # In case the frequency had some stuff that were extra to it like \"023-WMAP_K\", \"040-WMAP_Q1\", etc.\n",
    "            dict_keys.append(file[-8:-5])  \n",
    "    else: \n",
    "        if file[5:8] == freqs[0]:  # In case it was just the frequency value that was present like \"030\", \"044\", etc.\n",
    "            dict_keys.append(file[-8:-5])  \n",
    "\n",
    "# Next, we define the actual dictionary:\n",
    "rename_dict = {}\n",
    "\n",
    "# This dictionary will be filled automatically in the following loop, assigning the numbers to run indices:\n",
    "\n",
    "for i in range(1, len(dict_keys)+1):\n",
    "    run_name = f\"run_{i}\"\n",
    "    rename_dict[dict_keys[i-1]] = run_name\n",
    "\n",
    "rename_dict"
   ]
  },
  {
   "cell_type": "code",
   "execution_count": 33,
   "metadata": {},
   "outputs": [
    {
     "data": {
      "text/plain": [
       "['030_full_8_run_4',\n",
       " '023_full_8_run_5',\n",
       " '030_full_8_run_2',\n",
       " '023_full_8_run_3',\n",
       " '023_full_8_run_2',\n",
       " '023_full_8_run_1',\n",
       " '030_full_8_run_5',\n",
       " '030_full_8_run_1',\n",
       " '023_full_8_run_4',\n",
       " '030_full_8_run_3']"
      ]
     },
     "execution_count": 33,
     "metadata": {},
     "output_type": "execute_result"
    }
   ],
   "source": [
    "# Finally, its time to rename the files. \n",
    "\n",
    "# We go through the files in files_list and rename them to the format of say for example: \"023_full_8_run_2\"\n",
    "\n",
    "for file in files_list: \n",
    "    if file[-8:-5] != 'ool':   # This not-equal to is to exclude the inpaiting tool files. \n",
    "\n",
    "        if file[5] == '0':     # If the frequency is two digits like 30, 44, 90, etc. \n",
    "            os.rename(path + '/' + file, path + '/' + file[6:8] + \"_full_512_\" + rename_dict[file[-8:-5]] + '.fits')  # Here 512 is the nside we are using for the analysis\n",
    "\n",
    "        else:  # If the frequency is three digits like 100, 143. 373, etc. \n",
    "            os.rename(path + '/' + file, path + '/' + file[5:8] + \"_full_512_\" + rename_dict[file[-8:-5]] + '.fits')\n",
    "\n",
    "files_list = os.listdir(path)\n",
    "files_list"
   ]
  }
 ],
 "metadata": {
  "kernelspec": {
   "display_name": "Python 3",
   "language": "python",
   "name": "python3"
  },
  "language_info": {
   "codemirror_mode": {
    "name": "ipython",
    "version": 3
   },
   "file_extension": ".py",
   "mimetype": "text/x-python",
   "name": "python",
   "nbconvert_exporter": "python",
   "pygments_lexer": "ipython3",
   "version": "3.11.4"
  }
 },
 "nbformat": 4,
 "nbformat_minor": 2
}

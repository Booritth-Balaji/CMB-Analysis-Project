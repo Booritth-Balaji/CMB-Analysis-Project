{
 "cells": [
  {
   "cell_type": "code",
   "execution_count": 29,
   "metadata": {},
   "outputs": [],
   "source": [
    "import os"
   ]
  },
  {
   "cell_type": "code",
   "execution_count": 31,
   "metadata": {},
   "outputs": [
    {
     "data": {
      "text/plain": [
       "['freq_030_000202.fits',\n",
       " 'freq_030_000214.fits',\n",
       " 'freq_023-WMAP_K_000148.fits',\n",
       " 'freq_023-WMAP_K_000222.fits',\n",
       " 'freq_023-WMAP_K_000214.fits',\n",
       " 'freq_030_000222.fits',\n",
       " 'freq_030_000108.fits',\n",
       " 'freq_023-WMAP_K_000108.fits',\n",
       " 'freq_030_000148.fits',\n",
       " 'freq_023-WMAP_K_000202.fits']"
      ]
     },
     "execution_count": 31,
     "metadata": {},
     "output_type": "execute_result"
    }
   ],
   "source": [
    "# First, we specify the path to where all the data files are located\n",
    "path = \"rename test folder\"\n",
    "\n",
    "# Next we create a list of all the file names in that specified folder\n",
    "files_list = os.listdir(path)\n",
    "\n",
    "files_list"
   ]
  },
  {
   "cell_type": "code",
   "execution_count": 32,
   "metadata": {},
   "outputs": [
    {
     "data": {
      "text/plain": [
       "{'202': 'run_1',\n",
       " '214': 'run_2',\n",
       " '222': 'run_3',\n",
       " '108': 'run_4',\n",
       " '148': 'run_5'}"
      ]
     },
     "execution_count": 32,
     "metadata": {},
     "output_type": "execute_result"
    }
   ],
   "source": [
    "# Since there can be any amount of runs for each frequency, we first input \n",
    "# all the available frequencies in the below list. \n",
    "\n",
    "freqs = [\"030\", \"023-WMAP_K\"]  # Note that in our case, the files were of the name: \"freq_023-WMAP_K_000108.fits\" \n",
    "                               # where the \"023-WMAP_K\" is the supposed frequency and \"000108\" is the run number. \n",
    "\n",
    "\n",
    "# Now since we need to rename the files to the format of \"run_1\", \"run_2\", etc. \n",
    "# we create a dictionary that corresponds say \"000108\" to \"run_1\" and \"000148\" to run_2 and so on\n",
    "dict_keys = [] \n",
    "\n",
    "# This part is automated, the loop just chooses the first frequency in freqs and runs through all the files\n",
    "# Since each file is a new run, it collects the \"000108\" and stores it in dict_keys to use them as keys for the dictionary\n",
    "for file in files_list:\n",
    "    if file[5:8] == freqs[0]:\n",
    "        dict_keys.append(file[-8:-5])\n",
    "\n",
    "# Next, we define the actual dictionary: \n",
    "rename_dict = {}\n",
    "\n",
    "# This dictionary will be filled automatically in the following loop, assigning the numbers to run indices:\n",
    "\n",
    "for i in range(1, len(dict_keys)+1):\n",
    "    run_name = f\"run_{i}\"\n",
    "    rename_dict[dict_keys[i-1]] = run_name\n",
    "\n",
    "rename_dict\n"
   ]
  },
  {
   "cell_type": "code",
   "execution_count": 33,
   "metadata": {},
   "outputs": [
    {
     "data": {
      "text/plain": [
       "['030_full_8_run_4',\n",
       " '023_full_8_run_5',\n",
       " '030_full_8_run_2',\n",
       " '023_full_8_run_3',\n",
       " '023_full_8_run_2',\n",
       " '023_full_8_run_1',\n",
       " '030_full_8_run_5',\n",
       " '030_full_8_run_1',\n",
       " '023_full_8_run_4',\n",
       " '030_full_8_run_3']"
      ]
     },
     "execution_count": 33,
     "metadata": {},
     "output_type": "execute_result"
    }
   ],
   "source": [
    "# Finally, its time to rename the files. \n",
    "\n",
    "# We go through the files in files_list and rename them to the format of say for example: \"023_full_8_run_2\"\n",
    "\n",
    "for file in files_list: \n",
    "    os.rename(path + '/' + file, path + '/' + file[5:8] + \"_full_8_\" + rename_dict[file[-8:-5]])\n",
    "\n",
    "files_list = os.listdir(path)\n",
    "files_list"
   ]
  }
 ],
 "metadata": {
  "kernelspec": {
   "display_name": "Python 3",
   "language": "python",
   "name": "python3"
  },
  "language_info": {
   "codemirror_mode": {
    "name": "ipython",
    "version": 3
   },
   "file_extension": ".py",
   "mimetype": "text/x-python",
   "name": "python",
   "nbconvert_exporter": "python",
   "pygments_lexer": "ipython3",
   "version": "3.11.4"
  }
 },
 "nbformat": 4,
 "nbformat_minor": 2
}

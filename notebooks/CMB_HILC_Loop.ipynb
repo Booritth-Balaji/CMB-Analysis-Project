{
 "cells": [
  {
   "cell_type": "code",
   "execution_count": 1,
   "id": "3ec04d6f-f6b0-4fce-8bc3-6fb5aad754c1",
   "metadata": {},
   "outputs": [],
   "source": [
    "import sys\n",
    "\n",
    "import os\n",
    "\n",
    "import matplotlib.pyplot as plt\n",
    "\n",
    "import numpy as np\n",
    "\n",
    "import healpy as hp\n",
    "\n",
    "from astropy.io import fits"
   ]
  },
  {
   "cell_type": "code",
   "execution_count": 2,
   "id": "f34b32ef-5c45-4997-82c9-5d08f5862836",
   "metadata": {},
   "outputs": [],
   "source": [
    "\n",
    "pyilc_folder ='../'\n",
    "\n",
    "sys.path.insert(1,pyilc_folder+'pyilc/')\n",
    "\n",
    "from input import ILCInfo\n",
    "from wavelets import Wavelets, wavelet_ILC, harmonic_ILC\n"
   ]
  },
  {
   "cell_type": "code",
   "execution_count": 3,
   "id": "883022c2-5bd3-411e-8e04-cba42279f827",
   "metadata": {},
   "outputs": [],
   "source": [
    "# this file is where the preprocessed single-frequency maps will be downloaded and saved to.\n",
    "# they take up about 2.2 Gb; feel free to change this location.\n",
    "\n",
    "datafolder= pyilc_folder + 'data/' \n"
   ]
  },
  {
   "cell_type": "code",
   "execution_count": 4,
   "id": "a2e36c0d-89e1-4e91-aff8-cc5afe54c792",
   "metadata": {},
   "outputs": [],
   "source": [
    "# here put the output folder where you want to save the output. \n",
    "# this will need to be able to hold XXX Gb.\n",
    "output_folder = '../output/'\n",
    "if not os.path.exists(output_folder):\n",
    "    print(\"creating folder\")\n",
    "    os.makedirs(output_folder)"
   ]
  },
  {
   "cell_type": "code",
   "execution_count": 5,
   "id": "bcb77f40-0c99-4304-adee-30a88998a11a",
   "metadata": {},
   "outputs": [],
   "source": [
    "nside = 512  # Nside of WMAP\n",
    "n_freqs = 7  # No. of frequencies that we are using for our analysis\n",
    "\n",
    "beam_FWHM_arcmin = [32.29, 27.94, 13.08,9.66,7.22,4.92,4.90]  # provide the beam FWHMs. Order needs to always be decreasing. \n",
    "\n",
    "\n",
    "def set_freqmapfiles_in_info(ILCInfo, run_num, datafolder='../data/',split='full'):\n",
    "    assert split in ['full','RH1','RH2']\n",
    "\n",
    "    ILCInfo.N_side = nside  # Setting the nside to the value used for analysis\n",
    "\n",
    "    ILCInfo.ELLMAX = 2*nside  # Setting the ell_max to be twise the nside since that is recommended\n",
    "\n",
    "    ILCInfo.N_freqs = n_freqs  # Setting the no. of frequencies that we will be using for our anlaysis\n",
    "\n",
    "    ILCInfo.beam_FWHM_arcmin = beam_FWHM_arcmin\n",
    "\n",
    "    ILCInfo.freq_map_files = []  # Emptying the freq_map_files list, which will contain the directories of the data files. \n",
    "\n",
    "    ILCInfo.freq_bp_files = [None] * n_freqs  # Emptying the bandpass files since we dont need to use any bandpasses for our analysis for now\n",
    "\n",
    "    for xind,x in enumerate([23, 30, 40, 44, 60, 70, 90]):\n",
    "        ILCInfo.freq_map_files.append('../data/maps/' + str(x) + '_' + split + '_' + str(nside) + '_' + 'run_' + str(run_num) + '.fits')  # Adding the locations of the data files for each run and multiple frequencies to the list. \n"
   ]
  },
  {
   "cell_type": "code",
   "execution_count": 6,
   "id": "39ab8947",
   "metadata": {},
   "outputs": [],
   "source": [
    "def run_full_ILC(info):\n",
    "    ##########################\n",
    "    # read in frequency maps\n",
    "    print(\"reading in maps and other info...\")\n",
    "    info.read_maps()\n",
    "    # read in bandpasses\n",
    "    info.read_bandpasses()\n",
    "    # read in beams\n",
    "    info.read_beams()\n",
    "    #########################\n",
    "    # construct wavelets\n",
    "    wv = Wavelets(N_scales=info.N_scales, ELLMAX=info.ELLMAX, tol=1.e-6, taper_width=info.taper_width)\n",
    "    if info.wavelet_type == 'GaussianNeedlets':\n",
    "        ell, filts = wv.GaussianNeedlets(FWHM_arcmin=info.GN_FWHM_arcmin)\n",
    "    elif info.wavelet_type == 'CosineNeedlets': # Fiona added CosineNeedlets\n",
    "        ell,filts = wv.CosineNeedlets(ellmin = info.ellmin,ellpeaks = info.ellpeaks)\n",
    "    elif info.wavelet_type == 'TopHatHarmonic':\n",
    "        ell,filts = wv.TopHatHarmonic(info.ellbins)\n",
    "    else:\n",
    "        raise TypeError('unsupported wavelet type')\n",
    "    # wavelet ILC\n",
    "    if info.wavelet_type == 'TopHatHarmonic':\n",
    "        print(\"converting maps to alms...\")\n",
    "        info.maps2alms()\n",
    "        print(\"finding C_ells of maps...\")\n",
    "        info.alms2cls()\n",
    "        print(\"doing harmonic ILC...\")\n",
    "        harmonic_ILC(wv, info, resp_tol=info.resp_tol, map_images=False)\n",
    "    else:\n",
    "        wavelet_ILC(wv, info, resp_tol=info.resp_tol, map_images=False)\n",
    "    print(\"done\")\n",
    "    return"
   ]
  },
  {
   "cell_type": "code",
   "execution_count": 8,
   "id": "2f99093f-c039-4238-83c5-c0c499867486",
   "metadata": {},
   "outputs": [
    {
     "name": "stdout",
     "output_type": "stream",
     "text": [
      "reading in maps and other info...\n",
      "converting maps to alms...\n",
      "finding C_ells of maps...\n",
      "doing harmonic ILC...\n",
      "doing main ILC!!\n",
      "getting none amix\n",
      "getting none amix\n",
      "getting none amix\n",
      "getting none amix\n",
      "getting none amix\n",
      "getting none amix\n",
      "getting none amix\n",
      "preserved component response failed at wavelet scale 0; these should be zero: [nan] (tol is 0.001)\n"
     ]
    },
    {
     "name": "stderr",
     "output_type": "stream",
     "text": [
      "/home/boorittht/Downloads/pyILC and Commander3/notebooks/../pyilc/wavelets.py:1742: RuntimeWarning: divide by zero encountered in divide\n",
      "  weights = 1.0/numba_det(np.transpose(Qab_pix,(2,0,1)))[:,None] * np.transpose(tmp3) #N.B. 'weights' here only includes channels that passed beam_thresh criterion\n",
      "/home/boorittht/Downloads/pyILC and Commander3/notebooks/../pyilc/wavelets.py:1742: RuntimeWarning: invalid value encountered in multiply\n",
      "  weights = 1.0/numba_det(np.transpose(Qab_pix,(2,0,1)))[:,None] * np.transpose(tmp3) #N.B. 'weights' here only includes channels that passed beam_thresh criterion\n"
     ]
    },
    {
     "ename": "NameError",
     "evalue": "name 'quit' is not defined",
     "output_type": "error",
     "traceback": [
      "\u001b[0;31m---------------------------------------------------------------------------\u001b[0m",
      "\u001b[0;31mNameError\u001b[0m                                 Traceback (most recent call last)",
      "Cell \u001b[0;32mIn [8], line 27\u001b[0m\n\u001b[1;32m     14\u001b[0m info_full\u001b[38;5;241m.\u001b[39moutput_dir \u001b[38;5;241m=\u001b[39m output_folder \u001b[38;5;241m+\u001b[39m \u001b[38;5;124m'\u001b[39m\u001b[38;5;124m/run_\u001b[39m\u001b[38;5;124m'\u001b[39m \u001b[38;5;241m+\u001b[39m \u001b[38;5;28mstr\u001b[39m(run_num) \u001b[38;5;241m+\u001b[39m \u001b[38;5;124m'\u001b[39m\u001b[38;5;124m_\u001b[39m\u001b[38;5;124m'\u001b[39m\n\u001b[1;32m     16\u001b[0m \u001b[38;5;66;03m# print(info_full.freq_map_files)\u001b[39;00m\n\u001b[1;32m     17\u001b[0m \n\u001b[1;32m     18\u001b[0m \u001b[38;5;66;03m# print(len(info_full.freq_map_files))\u001b[39;00m\n\u001b[0;32m   (...)\u001b[0m\n\u001b[1;32m     24\u001b[0m \u001b[38;5;66;03m# assert len(hp.read_map(info_full.freq_map_files[0])) <= info_full.N_pix, \"error\"\u001b[39;00m\n\u001b[1;32m     25\u001b[0m \u001b[38;5;66;03m# print(hp.get_nside(hp.read_map(\"../data/maps/23_full_512_run_1.fits\")))\u001b[39;00m\n\u001b[0;32m---> 27\u001b[0m \u001b[43mrun_full_ILC\u001b[49m\u001b[43m(\u001b[49m\u001b[43minfo_full\u001b[49m\u001b[43m)\u001b[49m\n",
      "Cell \u001b[0;32mIn [6], line 28\u001b[0m, in \u001b[0;36mrun_full_ILC\u001b[0;34m(info)\u001b[0m\n\u001b[1;32m     26\u001b[0m     info\u001b[38;5;241m.\u001b[39malms2cls()\n\u001b[1;32m     27\u001b[0m     \u001b[38;5;28mprint\u001b[39m(\u001b[38;5;124m\"\u001b[39m\u001b[38;5;124mdoing harmonic ILC...\u001b[39m\u001b[38;5;124m\"\u001b[39m)\n\u001b[0;32m---> 28\u001b[0m     \u001b[43mharmonic_ILC\u001b[49m\u001b[43m(\u001b[49m\u001b[43mwv\u001b[49m\u001b[43m,\u001b[49m\u001b[43m \u001b[49m\u001b[43minfo\u001b[49m\u001b[43m,\u001b[49m\u001b[43m \u001b[49m\u001b[43mresp_tol\u001b[49m\u001b[38;5;241;43m=\u001b[39;49m\u001b[43minfo\u001b[49m\u001b[38;5;241;43m.\u001b[39;49m\u001b[43mresp_tol\u001b[49m\u001b[43m,\u001b[49m\u001b[43m \u001b[49m\u001b[43mmap_images\u001b[49m\u001b[38;5;241;43m=\u001b[39;49m\u001b[38;5;28;43;01mFalse\u001b[39;49;00m\u001b[43m)\u001b[49m\n\u001b[1;32m     29\u001b[0m \u001b[38;5;28;01melse\u001b[39;00m:\n\u001b[1;32m     30\u001b[0m     wavelet_ILC(wv, info, resp_tol\u001b[38;5;241m=\u001b[39minfo\u001b[38;5;241m.\u001b[39mresp_tol, map_images\u001b[38;5;241m=\u001b[39m\u001b[38;5;28;01mFalse\u001b[39;00m)\n",
      "File \u001b[0;32m~/Downloads/pyILC and Commander3/notebooks/../pyilc/wavelets.py:1749\u001b[0m, in \u001b[0;36mharmonic_ILC\u001b[0;34m(wv, info, resp_tol, map_images)\u001b[0m\n\u001b[1;32m   1747\u001b[0m \u001b[38;5;28;01mif\u001b[39;00m \u001b[38;5;129;01mnot\u001b[39;00m (np\u001b[38;5;241m.\u001b[39mabsolute(response[\u001b[38;5;241m0\u001b[39m]\u001b[38;5;241m-\u001b[39moptimal_response_preserved_comp) \u001b[38;5;241m<\u001b[39m resp_tol)\u001b[38;5;241m.\u001b[39mall():\n\u001b[1;32m   1748\u001b[0m     \u001b[38;5;28mprint\u001b[39m(\u001b[38;5;124m'\u001b[39m\u001b[38;5;124mpreserved component response failed at wavelet scale \u001b[39m\u001b[38;5;124m'\u001b[39m\u001b[38;5;241m+\u001b[39m\u001b[38;5;28mstr\u001b[39m(j)\u001b[38;5;241m+\u001b[39m\u001b[38;5;124m'\u001b[39m\u001b[38;5;124m; these should be zero: \u001b[39m\u001b[38;5;124m'\u001b[39m\u001b[38;5;241m+\u001b[39m\u001b[38;5;28mstr\u001b[39m(np\u001b[38;5;241m.\u001b[39mabsolute(response[\u001b[38;5;241m0\u001b[39m]\u001b[38;5;241m-\u001b[39moptimal_response_preserved_comp))\u001b[38;5;241m+\u001b[39m\u001b[38;5;124m'\u001b[39m\u001b[38;5;124m (tol is \u001b[39m\u001b[38;5;124m'\u001b[39m\u001b[38;5;241m+\u001b[39m\u001b[38;5;28mstr\u001b[39m(resp_tol)\u001b[38;5;241m+\u001b[39m\u001b[38;5;124m'\u001b[39m\u001b[38;5;124m)\u001b[39m\u001b[38;5;124m'\u001b[39m,flush\u001b[38;5;241m=\u001b[39m\u001b[38;5;28;01mTrue\u001b[39;00m)\n\u001b[0;32m-> 1749\u001b[0m     \u001b[43mquit\u001b[49m()\n\u001b[1;32m   1750\u001b[0m \u001b[38;5;28;01mif\u001b[39;00m \u001b[38;5;129;01mnot\u001b[39;00m (np\u001b[38;5;241m.\u001b[39mabsolute(response[\u001b[38;5;241m1\u001b[39m:]\u001b[38;5;241m-\u001b[39moptimal_response_deproj_comp) \u001b[38;5;241m<\u001b[39m resp_tol)\u001b[38;5;241m.\u001b[39mall():\n\u001b[1;32m   1751\u001b[0m     \u001b[38;5;28mprint\u001b[39m(\u001b[38;5;124m'\u001b[39m\u001b[38;5;124mdeprojected component response failed at wavelet scale \u001b[39m\u001b[38;5;124m'\u001b[39m\u001b[38;5;241m+\u001b[39m\u001b[38;5;28mstr\u001b[39m(j)\u001b[38;5;241m+\u001b[39m\u001b[38;5;124m'\u001b[39m\u001b[38;5;124m; these should be zero:\u001b[39m\u001b[38;5;124m'\u001b[39m\u001b[38;5;241m+\u001b[39m\u001b[38;5;28mstr\u001b[39m(np\u001b[38;5;241m.\u001b[39mabsolute(response[\u001b[38;5;241m1\u001b[39m:]\u001b[38;5;241m-\u001b[39moptimal_response_deproj_comp))\u001b[38;5;241m+\u001b[39m\u001b[38;5;124m'\u001b[39m\u001b[38;5;124m (tol is \u001b[39m\u001b[38;5;124m'\u001b[39m\u001b[38;5;241m+\u001b[39m\u001b[38;5;28mstr\u001b[39m(resp_tol)\u001b[38;5;241m+\u001b[39m\u001b[38;5;124m'\u001b[39m\u001b[38;5;124m)\u001b[39m\u001b[38;5;124m'\u001b[39m,flush\u001b[38;5;241m=\u001b[39m\u001b[38;5;28;01mTrue\u001b[39;00m)\n",
      "\u001b[0;31mNameError\u001b[0m: name 'quit' is not defined"
     ]
    }
   ],
   "source": [
    "inputfile = pyilc_folder +'input/sample_run_Planck_CMB_HILC.yml'\n",
    "\n",
    "info_full = ILCInfo(inputfile)\n",
    "\n",
    "# Setting the total number of runs\n",
    "run_tot = 12\n",
    "\n",
    "# Performing multiple runs\n",
    "\n",
    "for run_num in range(1,run_tot+1): \n",
    "\n",
    "    set_freqmapfiles_in_info(info_full, run_num, datafolder)\n",
    "\n",
    "    info_full.output_dir = output_folder + '/run_' + str(run_num) + '_'\n",
    "\n",
    "    # print(info_full.freq_map_files)\n",
    "\n",
    "    # print(len(info_full.freq_map_files))\n",
    "\n",
    "    # print(info_full.freq_map_files[0])\n",
    "    # print(hp.get_nside(hp.read_map(info_full.freq_map_files[0])))\n",
    "    # print(run_num, info_full.N_side)\n",
    "    # print(type(len(hp.read_map(info_full.freq_map_files[0]))), type(info_full.N_pix))\n",
    "    # assert len(hp.read_map(info_full.freq_map_files[0])) <= info_full.N_pix, \"error\"\n",
    "    # print(hp.get_nside(hp.read_map(\"../data/maps/23_full_512_run_1.fits\")))\n",
    "\n",
    "    run_full_ILC(info_full)\n"
   ]
  }
 ],
 "metadata": {
  "kernelspec": {
   "display_name": "Python 3",
   "language": "python",
   "name": "python3"
  },
  "language_info": {
   "codemirror_mode": {
    "name": "ipython",
    "version": 3
   },
   "file_extension": ".py",
   "mimetype": "text/x-python",
   "name": "python",
   "nbconvert_exporter": "python",
   "pygments_lexer": "ipython3",
   "version": "3.11.4"
  }
 },
 "nbformat": 4,
 "nbformat_minor": 5
}
